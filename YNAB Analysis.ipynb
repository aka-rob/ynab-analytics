{
 "cells": [
  {
   "attachments": {},
   "cell_type": "markdown",
   "id": "88fe3506",
   "metadata": {},
   "source": [
    "# YNAB Analysis"
   ]
  },
  {
   "attachments": {},
   "cell_type": "markdown",
   "id": "ae158c33",
   "metadata": {},
   "source": [
    "Currently YNAB does not provide any meaningful analysis for understanding where your current spending is over/under against your bugdet. Furthermore, the budget view resets every month, so overages disappear and can get lost, leading to an increase in incramental credit card debt.\n",
    "\n",
    "This notebook is the start of ingesting the register data out of YNAB and doing a two week lookback (one pay period).\n",
    "\n",
    "Questions this aims to answer:\n",
    "* Is the spend habitual or one-off?\n",
    "* What payees seem to be causing the problems?"
   ]
  },
  {
   "cell_type": "code",
   "execution_count": null,
   "id": "fd8357a9",
   "metadata": {},
   "outputs": [],
   "source": [
    "import pandas as pd\n",
    "import numpy as np\n",
    "import matplotlib.pyplot as plt\n",
    "import config # contains sensative data (see note below)\n",
    "from scipy.stats import linregress"
   ]
  },
  {
   "cell_type": "code",
   "execution_count": null,
   "id": "b13683a4",
   "metadata": {},
   "outputs": [],
   "source": [
    "# Import register data\n",
    "df = pd.read_csv('2023-06-14 17-34 - Register.csv')\n",
    "\n",
    "# Convert 'Outflow' and 'Inflow' columns to numeric\n",
    "df['Outflow'] = df['Outflow'].str.replace('$', '').str.replace(',', '').astype(float)\n",
    "df['Inflow'] = df['Inflow'].str.replace('$', '').str.replace(',', '').astype(float)\n",
    "\n",
    "# Convert the 'Date' column to datetime format\n",
    "df['Date'] = pd.to_datetime(df['Date'])"
   ]
  },
  {
   "cell_type": "code",
   "execution_count": null,
   "id": "1718cb30",
   "metadata": {},
   "outputs": [],
   "source": [
    "# Examine data import\n",
    "df.head()"
   ]
  },
  {
   "cell_type": "code",
   "execution_count": null,
   "id": "58404503",
   "metadata": {},
   "outputs": [],
   "source": [
    "# List unique accounts to determine if any need to be filtered out\n",
    "df['Account'].unique()"
   ]
  },
  {
   "attachments": {},
   "cell_type": "markdown",
   "id": "a0256e7c",
   "metadata": {},
   "source": [
    "## Top 10 payee analysis"
   ]
  },
  {
   "attachments": {},
   "cell_type": "markdown",
   "id": "820396ed",
   "metadata": {},
   "source": [
    "**Note:**\n",
    "Sensitive data is contained within a `config.py` file. Template of `config.py` provided in the repo."
   ]
  },
  {
   "cell_type": "code",
   "execution_count": null,
   "id": "f79dca75",
   "metadata": {},
   "outputs": [],
   "source": [
    "# Define the payees to be filtered out\n",
    "excluded_payees = config.excluded_payees\n",
    "\n",
    "# Replace missing values in 'Payee' column with an empty string\n",
    "df['Payee'] = df['Payee'].fillna('')\n",
    "\n",
    "# Extract the variables from the config module\n",
    "start_date = config.start_date\n",
    "end_date = config.end_date\n",
    "excluded_payees = config.excluded_payees\n",
    "excluded_prefixes = config.excluded_prefixes\n",
    "excluded_categories = config.excluded_categories\n",
    "excluded_accounts = config.excluded_accounts\n",
    "\n",
    "# Filter the dataset by the date range and specific payees\n",
    "filtered_df = (df[(df['Date'] >= start_date) &\n",
    "                  (df['Date'] <= end_date) &\n",
    "                  (~df['Payee'].isin(excluded_payees)) &\n",
    "                  (~df['Payee'].str.startswith(excluded_prefixes)) &\n",
    "                  (df['Category'] != excluded_categories) &\n",
    "                  (df['Account'] != excluded_accounts)])\n",
    "\n",
    "# Group the filtered data by payee and category and aggregate the outflow\n",
    "summary = filtered_df.groupby(['Payee'])['Outflow'].sum().reset_index()\n",
    "\n",
    "# Sort the summary data by payee in descending order\n",
    "summary = summary.sort_values('Outflow', ascending=False)\n",
    "\n",
    "# Filter the top ten payees\n",
    "top_ten_payees = summary.head(10)\n",
    "\n",
    "# Plot the summarized data for the top ten payees\n",
    "plt.figure(figsize=(10, 6))\n",
    "bars = plt.bar(top_ten_payees['Payee'], top_ten_payees['Outflow'])\n",
    "plt.xlabel('Payee')\n",
    "plt.ylabel('Outflow')\n",
    "plt.title('Top Ten Payees - Summarized Outflow (Last Two Weeks)')\n",
    "plt.xticks(rotation=90)\n",
    "\n",
    "# Add the amount on top of each bar\n",
    "for bar in bars:\n",
    "    height = bar.get_height()\n",
    "    plt.text(bar.get_x() + bar.get_width() / 2, height, f\"${height:.2f}\", ha='center', va='bottom')\n",
    "\n",
    "plt.show()"
   ]
  },
  {
   "attachments": {},
   "cell_type": "markdown",
   "id": "454b8b57",
   "metadata": {},
   "source": [
    "## Top 10 category analysis"
   ]
  },
  {
   "cell_type": "code",
   "execution_count": null,
   "id": "2b3097b0",
   "metadata": {},
   "outputs": [],
   "source": [
    "# Group the filtered data by category and aggregate the outflow\n",
    "summary = filtered_df.groupby('Category')['Outflow'].sum().reset_index()\n",
    "\n",
    "# Sort the summary data by outflow in descending order\n",
    "summary = summary.sort_values('Outflow', ascending=False)\n",
    "\n",
    "# Filter the top ten categories\n",
    "top_ten_categories = summary.head(10)\n",
    "\n",
    "# Plot the summarized data for the top ten categories\n",
    "plt.figure(figsize=(10, 6))\n",
    "bars = plt.bar(top_ten_categories['Category'], top_ten_categories['Outflow'])\n",
    "plt.xlabel('Category')\n",
    "plt.ylabel('Outflow')\n",
    "plt.title('Top Ten Categories - Summarized Outflow (Last Two Weeks)')\n",
    "plt.xticks(rotation=90)\n",
    "\n",
    "# Add the amount on top of each bar\n",
    "for bar in bars:\n",
    "    height = bar.get_height()\n",
    "    plt.text(bar.get_x() + bar.get_width() / 2, height, f\"${height:.2f}\", ha='center', va='bottom')\n",
    "\n",
    "plt.show()"
   ]
  },
  {
   "attachments": {},
   "cell_type": "markdown",
   "id": "6b0cfbc6",
   "metadata": {},
   "source": [
    "## Regression on Day of Week vs. Outflow\n",
    "\n",
    "(No real meaningful output)"
   ]
  },
  {
   "cell_type": "code",
   "execution_count": null,
   "id": "9ddc9988",
   "metadata": {},
   "outputs": [],
   "source": [
    "# Extract the week of the year and day of the week\n",
    "df['WeekOfYear'] = df['Date'].dt.week\n",
    "df['DayOfWeek'] = df['Date'].dt.dayofweek\n",
    "\n",
    "# Perform regression analysis for WeekOfYear vs Outflow\n",
    "regression_week = pd.DataFrame({'WeekOfYear': df['WeekOfYear'], 'Outflow': df['Outflow']})\n",
    "results_week = regression_week.groupby('WeekOfYear').mean().reset_index()\n",
    "\n",
    "# Perform regression analysis for DayOfWeek vs Outflow\n",
    "regression_day = pd.DataFrame({'DayOfWeek': df['DayOfWeek'], 'Outflow': df['Outflow']})\n",
    "results_day = regression_day.groupby('DayOfWeek').mean().reset_index()\n",
    "\n",
    "# Fit a linear regression model for WeekOfYear vs Outflow\n",
    "slope_week, intercept_week, r_value_week, p_value_week, std_err_week = linregress(results_week['WeekOfYear'], results_week['Outflow'])\n",
    "regression_line_week = intercept_week + slope_week * results_week['WeekOfYear']\n",
    "\n",
    "# Fit a linear regression model for DayOfWeek vs Outflow\n",
    "slope_day, intercept_day, r_value_day, p_value_day, std_err_day = linregress(results_day['DayOfWeek'], results_day['Outflow'])\n",
    "regression_line_day = intercept_day + slope_day * results_day['DayOfWeek']\n",
    "\n",
    "# Plot the regression results for WeekOfYear vs Outflow\n",
    "plt.figure(figsize=(10, 6))\n",
    "plt.scatter(results_week['WeekOfYear'], results_week['Outflow'])\n",
    "plt.plot(results_week['WeekOfYear'], regression_line_week, color='red', label='Regression Line')\n",
    "plt.xlabel('Week of the Year')\n",
    "plt.ylabel('Outflow')\n",
    "plt.title('Regression Analysis: Week of the Year vs Outflow')\n",
    "plt.legend()\n",
    "plt.show()\n",
    "\n",
    "# Plot the regression results for DayOfWeek vs Outflow\n",
    "plt.figure(figsize=(10, 6))\n",
    "plt.scatter(results_day['DayOfWeek'], results_day['Outflow'])\n",
    "plt.plot(results_day['DayOfWeek'], regression_line_day, color='red', label='Regression Line')\n",
    "plt.xlabel('Day of the Week')\n",
    "plt.ylabel('Outflow')\n",
    "plt.title('Regression Analysis: Day of the Week vs Outflow')\n",
    "plt.xticks(range(7), ['Mon', 'Tue', 'Wed', 'Thu', 'Fri', 'Sat', 'Sun'])\n",
    "plt.legend()\n",
    "plt.show()"
   ]
  },
  {
   "attachments": {},
   "cell_type": "markdown",
   "id": "018c1281",
   "metadata": {},
   "source": [
    "## Friday transaction analysis\n",
    "\n",
    "In theory, if I'm paid on a Friday, I might tend to spend more when I'm cash flush. Are there more impulsive transactions occuring at this time?"
   ]
  },
  {
   "cell_type": "code",
   "execution_count": null,
   "id": "cb84bc3d",
   "metadata": {},
   "outputs": [],
   "source": [
    "# Filter the dataset for transactions that occurred on Fridays\n",
    "friday_transactions = df[df['Date'].dt.dayofweek == 4]  # 4 represents Friday\n",
    "\n",
    "# Aggregate the outflow by category for Friday transactions\n",
    "category_outflow = friday_transactions.groupby('Category')['Outflow'].sum().reset_index()\n",
    "\n",
    "# Sort the categories by aggregated outflow in descending order\n",
    "category_outflow = category_outflow.sort_values('Outflow', ascending=False)\n",
    "\n",
    "# Plot the top areas of spending on Fridays\n",
    "plt.figure(figsize=(10, 6))\n",
    "bars = plt.bar(category_outflow['Category'], category_outflow['Outflow'])\n",
    "plt.xlabel('Category')\n",
    "plt.ylabel('Outflow')\n",
    "plt.title('Top Areas of Spending on Fridays')\n",
    "plt.xticks(rotation=90)\n",
    "\n",
    "# Add the amount on top of each bar\n",
    "for bar in bars:\n",
    "    height = bar.get_height()\n",
    "    plt.text(bar.get_x() + bar.get_width() / 2, height, f\"${height:.2f}\", ha='center', va='bottom')\n",
    "\n",
    "plt.show()\n"
   ]
  }
 ],
 "metadata": {
  "kernelspec": {
   "display_name": "Python 3 (ipykernel)",
   "language": "python",
   "name": "python3"
  },
  "language_info": {
   "codemirror_mode": {
    "name": "ipython",
    "version": 3
   },
   "file_extension": ".py",
   "mimetype": "text/x-python",
   "name": "python",
   "nbconvert_exporter": "python",
   "pygments_lexer": "ipython3",
   "version": "3.9.5"
  }
 },
 "nbformat": 4,
 "nbformat_minor": 5
}
